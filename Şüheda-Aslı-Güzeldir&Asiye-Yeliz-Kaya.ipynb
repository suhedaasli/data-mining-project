{
 "cells": [
  {
   "cell_type": "markdown",
   "id": "fd9b014d",
   "metadata": {},
   "source": [
    "# 2021-2022 VERİ MADENCİLİĞİ DERSİ PROJESİ"
   ]
  },
  {
   "cell_type": "markdown",
   "id": "a6bd1af2",
   "metadata": {},
   "source": [
    "# 1.PROBLEMİN AÇIKLAMASI\n",
    "Kardiyovasküler hastalıklar (KVH), her yıl tahminen 17,9 milyon can alarak, dünya çapındaki tüm ölümlerin %31'ini oluşturan, küresel olarak 1 numaralı ölüm nedenidir. 5 kardiyovasküler hastalıktan dolayı ölümlerden dördü kalp krizi ve felç nedeniyledir ve bu ölümlerin üçte biri 70 yaşın altındaki kişilerde erken meydana gelir. Kalp yetmezliği, kardiyovsküler hastalıklarin neden olduğu yaygın bir olaydır ve bu veri seti, olası bir kalp hastalığını tahmin etmek için kullanılabilecek 11 özellik ve binary bağımsız değişken sonuç özelliği içerir.\n",
    "\n",
    "Kardiyovasküler hastalığı olan veya yüksek kardiyovasküler risk altında olan kişiler (hipertansiyon, diyabet, hiperlipidemi veya halihazırda yerleşik hastalık gibi bir veya daha fazla risk faktörünün varlığı nedeniyle), bir makine öğrenimi modelinin çok yardımcı olabileceği erken tespit ve yönetime ihtiyaç duyar.\n",
    "\n",
    "## VERİ SETİ HAKKINDA\n",
    "\n",
    "Üzerinde çalışma yapılan veri seti, Kaggle'da bulunan https://www.kaggle.com/datasets/johnsmith88/heart-disease-dataset üzerinden elde edilmiştir.\n",
    "\n",
    "#### Bağımsız Değişkenler\n",
    "1. Age : Hastaların yaşı(yıl)\n",
    "2. Sex : Hastanın cinsiyeti (1: Male, 0: Female)\n",
    "3. cp : Göğüs ağrısı tipi (0: Belirgin Göğüs Ağrısı, 1: Belirgin olmayan(olası) göğüs ağrısı, 2: Anjinal olmayan göğüs ağrısı, 3: Semptomsuz)\n",
    "4. trestbps : Dinlenme halinde kan basıncı(mm Hg)\n",
    "5. Chol : Serum kolesterol(mm/dl)\n",
    "6. Fbs : Açlık kan basıncı(1: Eğer FastingBS > 120 mg/dl, 0: Diğer)\n",
    "7. restecg  : Dinlenme halinde elektrokardiyogram sonuçları ( 0: Normal ,1: ST-T dalgasında anormallik, 2: olası veya kesin sol ventriküler hipertropi \n",
    "8. thalach  : Ulaşılan maksimum kalp hızı\n",
    "9. exang : Egzersize bağlı göğüs ağrısı (1: Yes, 0: No)\n",
    "10. Oldpeak : Baskı altında ölçülen sayısal değer\n",
    "11. slope : ST segmentinde zirve egzersiz durumunun eğimi(0-1-2)\n",
    "12. ca : Büyük kılcal damar sayısı ( 0-1-2-3 )\n",
    "13. thal :  1 = normal; 2 = düzeltilmiş kusur; 3 = tersine çevrilebilir kusur\n",
    "\n",
    "#### Çıktı Değişkeni (Bağımlı Değişkenler)\n",
    "14. HeartDisease (target) : Çıktı (1:Kalp Hastası ,0: Normal)\n",
    "\n",
    "## ÖZET\n",
    "Risk altında olan hastaların kalp hastalığı olup olmadığını, özelliklerine göre sınıflandıran bir verimiz var. Bu veri bilimi çalışmasında verileri, bir hastanın bu hastalığa sahip olup olmadığını tahmin etmeye çalışan bir model oluşturmak için kullanmaya çalışacağız. Lojistik Regresyon (sınıflandırma) ve Yapay Sinir Ağları algoritmalarını kullanacağız."
   ]
  },
  {
   "cell_type": "markdown",
   "id": "5119413a",
   "metadata": {},
   "source": [
    "# 2.VERİ ÖNİŞLEME\n",
    "## 2.1. VERİNİN İNCELENMESİ"
   ]
  },
  {
   "cell_type": "code",
   "execution_count": 1,
   "id": "38d422e9",
   "metadata": {},
   "outputs": [],
   "source": [
    "import numpy as np\n",
    "import pandas as pd\n",
    "import matplotlib.pyplot as plt\n",
    "import seaborn as sns\n",
    "import warnings\n",
    "warnings.filterwarnings(\"ignore\")\n",
    "%matplotlib inline\n",
    "\n",
    "from seaborn import heatmap\n",
    "from sklearn import preprocessing\n",
    "\n",
    "from sklearn.metrics import plot_confusion_matrix\n",
    "from sklearn.linear_model import LogisticRegression\n",
    "from sklearn.model_selection import train_test_split\n",
    "from sklearn.preprocessing import StandardScaler\n",
    "from sklearn.neural_network import MLPClassifier\n",
    "from sklearn.metrics import confusion_matrix, classification_report"
   ]
  },
  {
   "cell_type": "code",
   "execution_count": 2,
   "id": "ecaa742d",
   "metadata": {},
   "outputs": [
    {
     "data": {
      "text/html": [
       "<div>\n",
       "<style scoped>\n",
       "    .dataframe tbody tr th:only-of-type {\n",
       "        vertical-align: middle;\n",
       "    }\n",
       "\n",
       "    .dataframe tbody tr th {\n",
       "        vertical-align: top;\n",
       "    }\n",
       "\n",
       "    .dataframe thead th {\n",
       "        text-align: right;\n",
       "    }\n",
       "</style>\n",
       "<table border=\"1\" class=\"dataframe\">\n",
       "  <thead>\n",
       "    <tr style=\"text-align: right;\">\n",
       "      <th></th>\n",
       "      <th>age</th>\n",
       "      <th>sex</th>\n",
       "      <th>cp</th>\n",
       "      <th>trestbps</th>\n",
       "      <th>chol</th>\n",
       "      <th>fbs</th>\n",
       "      <th>restecg</th>\n",
       "      <th>thalach</th>\n",
       "      <th>exang</th>\n",
       "      <th>oldpeak</th>\n",
       "      <th>slope</th>\n",
       "      <th>ca</th>\n",
       "      <th>thal</th>\n",
       "      <th>target</th>\n",
       "    </tr>\n",
       "  </thead>\n",
       "  <tbody>\n",
       "    <tr>\n",
       "      <th>0</th>\n",
       "      <td>52</td>\n",
       "      <td>1</td>\n",
       "      <td>0</td>\n",
       "      <td>125</td>\n",
       "      <td>212</td>\n",
       "      <td>0</td>\n",
       "      <td>1</td>\n",
       "      <td>168</td>\n",
       "      <td>0</td>\n",
       "      <td>1.0</td>\n",
       "      <td>2</td>\n",
       "      <td>2</td>\n",
       "      <td>3</td>\n",
       "      <td>0</td>\n",
       "    </tr>\n",
       "    <tr>\n",
       "      <th>1</th>\n",
       "      <td>53</td>\n",
       "      <td>1</td>\n",
       "      <td>0</td>\n",
       "      <td>140</td>\n",
       "      <td>203</td>\n",
       "      <td>1</td>\n",
       "      <td>0</td>\n",
       "      <td>155</td>\n",
       "      <td>1</td>\n",
       "      <td>3.1</td>\n",
       "      <td>0</td>\n",
       "      <td>0</td>\n",
       "      <td>3</td>\n",
       "      <td>0</td>\n",
       "    </tr>\n",
       "    <tr>\n",
       "      <th>2</th>\n",
       "      <td>70</td>\n",
       "      <td>1</td>\n",
       "      <td>0</td>\n",
       "      <td>145</td>\n",
       "      <td>174</td>\n",
       "      <td>0</td>\n",
       "      <td>1</td>\n",
       "      <td>125</td>\n",
       "      <td>1</td>\n",
       "      <td>2.6</td>\n",
       "      <td>0</td>\n",
       "      <td>0</td>\n",
       "      <td>3</td>\n",
       "      <td>0</td>\n",
       "    </tr>\n",
       "    <tr>\n",
       "      <th>3</th>\n",
       "      <td>61</td>\n",
       "      <td>1</td>\n",
       "      <td>0</td>\n",
       "      <td>148</td>\n",
       "      <td>203</td>\n",
       "      <td>0</td>\n",
       "      <td>1</td>\n",
       "      <td>161</td>\n",
       "      <td>0</td>\n",
       "      <td>0.0</td>\n",
       "      <td>2</td>\n",
       "      <td>1</td>\n",
       "      <td>3</td>\n",
       "      <td>0</td>\n",
       "    </tr>\n",
       "    <tr>\n",
       "      <th>4</th>\n",
       "      <td>62</td>\n",
       "      <td>0</td>\n",
       "      <td>0</td>\n",
       "      <td>138</td>\n",
       "      <td>294</td>\n",
       "      <td>1</td>\n",
       "      <td>1</td>\n",
       "      <td>106</td>\n",
       "      <td>0</td>\n",
       "      <td>1.9</td>\n",
       "      <td>1</td>\n",
       "      <td>3</td>\n",
       "      <td>2</td>\n",
       "      <td>0</td>\n",
       "    </tr>\n",
       "  </tbody>\n",
       "</table>\n",
       "</div>"
      ],
      "text/plain": [
       "   age  sex  cp  trestbps  chol  fbs  restecg  thalach  exang  oldpeak  slope  \\\n",
       "0   52    1   0       125   212    0        1      168      0      1.0      2   \n",
       "1   53    1   0       140   203    1        0      155      1      3.1      0   \n",
       "2   70    1   0       145   174    0        1      125      1      2.6      0   \n",
       "3   61    1   0       148   203    0        1      161      0      0.0      2   \n",
       "4   62    0   0       138   294    1        1      106      0      1.9      1   \n",
       "\n",
       "   ca  thal  target  \n",
       "0   2     3       0  \n",
       "1   0     3       0  \n",
       "2   0     3       0  \n",
       "3   1     3       0  \n",
       "4   3     2       0  "
      ]
     },
     "execution_count": 2,
     "metadata": {},
     "output_type": "execute_result"
    }
   ],
   "source": [
    "df = pd.read_csv(\"heart.csv\")\n",
    "df.head()"
   ]
  },
  {
   "cell_type": "code",
   "execution_count": 3,
   "id": "89bcdfbd",
   "metadata": {},
   "outputs": [
    {
     "data": {
      "text/plain": [
       "(1025, 14)"
      ]
     },
     "execution_count": 3,
     "metadata": {},
     "output_type": "execute_result"
    }
   ],
   "source": [
    "df.shape"
   ]
  },
  {
   "cell_type": "code",
   "execution_count": 4,
   "id": "48bc56e8",
   "metadata": {},
   "outputs": [
    {
     "data": {
      "text/plain": [
       "age           int64\n",
       "sex           int64\n",
       "cp            int64\n",
       "trestbps      int64\n",
       "chol          int64\n",
       "fbs           int64\n",
       "restecg       int64\n",
       "thalach       int64\n",
       "exang         int64\n",
       "oldpeak     float64\n",
       "slope         int64\n",
       "ca            int64\n",
       "thal          int64\n",
       "target        int64\n",
       "dtype: object"
      ]
     },
     "execution_count": 4,
     "metadata": {},
     "output_type": "execute_result"
    }
   ],
   "source": [
    "df.dtypes"
   ]
  },
  {
   "cell_type": "code",
   "execution_count": 5,
   "id": "e2c24036",
   "metadata": {},
   "outputs": [
    {
     "name": "stdout",
     "output_type": "stream",
     "text": [
      "<class 'pandas.core.frame.DataFrame'>\n",
      "RangeIndex: 1025 entries, 0 to 1024\n",
      "Data columns (total 14 columns):\n",
      " #   Column    Non-Null Count  Dtype  \n",
      "---  ------    --------------  -----  \n",
      " 0   age       1025 non-null   int64  \n",
      " 1   sex       1025 non-null   int64  \n",
      " 2   cp        1025 non-null   int64  \n",
      " 3   trestbps  1025 non-null   int64  \n",
      " 4   chol      1025 non-null   int64  \n",
      " 5   fbs       1025 non-null   int64  \n",
      " 6   restecg   1025 non-null   int64  \n",
      " 7   thalach   1025 non-null   int64  \n",
      " 8   exang     1025 non-null   int64  \n",
      " 9   oldpeak   1025 non-null   float64\n",
      " 10  slope     1025 non-null   int64  \n",
      " 11  ca        1025 non-null   int64  \n",
      " 12  thal      1025 non-null   int64  \n",
      " 13  target    1025 non-null   int64  \n",
      "dtypes: float64(1), int64(13)\n",
      "memory usage: 112.2 KB\n"
     ]
    }
   ],
   "source": [
    "df.info()"
   ]
  },
  {
   "cell_type": "code",
   "execution_count": 6,
   "id": "c2bdef66",
   "metadata": {},
   "outputs": [
    {
     "data": {
      "text/plain": [
       "age         0\n",
       "sex         0\n",
       "cp          0\n",
       "trestbps    0\n",
       "chol        0\n",
       "fbs         0\n",
       "restecg     0\n",
       "thalach     0\n",
       "exang       0\n",
       "oldpeak     0\n",
       "slope       0\n",
       "ca          0\n",
       "thal        0\n",
       "target      0\n",
       "dtype: int64"
      ]
     },
     "execution_count": 6,
     "metadata": {},
     "output_type": "execute_result"
    }
   ],
   "source": [
    "df.isnull().sum()"
   ]
  },
  {
   "cell_type": "code",
   "execution_count": 7,
   "id": "b3c42057",
   "metadata": {},
   "outputs": [
    {
     "data": {
      "text/html": [
       "<div>\n",
       "<style scoped>\n",
       "    .dataframe tbody tr th:only-of-type {\n",
       "        vertical-align: middle;\n",
       "    }\n",
       "\n",
       "    .dataframe tbody tr th {\n",
       "        vertical-align: top;\n",
       "    }\n",
       "\n",
       "    .dataframe thead th {\n",
       "        text-align: right;\n",
       "    }\n",
       "</style>\n",
       "<table border=\"1\" class=\"dataframe\">\n",
       "  <thead>\n",
       "    <tr style=\"text-align: right;\">\n",
       "      <th></th>\n",
       "      <th>age</th>\n",
       "      <th>sex</th>\n",
       "      <th>cp</th>\n",
       "      <th>trestbps</th>\n",
       "      <th>chol</th>\n",
       "      <th>fbs</th>\n",
       "      <th>restecg</th>\n",
       "      <th>thalach</th>\n",
       "      <th>exang</th>\n",
       "      <th>oldpeak</th>\n",
       "      <th>slope</th>\n",
       "      <th>ca</th>\n",
       "      <th>thal</th>\n",
       "      <th>target</th>\n",
       "    </tr>\n",
       "  </thead>\n",
       "  <tbody>\n",
       "    <tr>\n",
       "      <th>count</th>\n",
       "      <td>1025.000000</td>\n",
       "      <td>1025.000000</td>\n",
       "      <td>1025.000000</td>\n",
       "      <td>1025.000000</td>\n",
       "      <td>1025.00000</td>\n",
       "      <td>1025.000000</td>\n",
       "      <td>1025.000000</td>\n",
       "      <td>1025.000000</td>\n",
       "      <td>1025.000000</td>\n",
       "      <td>1025.000000</td>\n",
       "      <td>1025.000000</td>\n",
       "      <td>1025.000000</td>\n",
       "      <td>1025.000000</td>\n",
       "      <td>1025.000000</td>\n",
       "    </tr>\n",
       "    <tr>\n",
       "      <th>mean</th>\n",
       "      <td>54.434146</td>\n",
       "      <td>0.695610</td>\n",
       "      <td>0.942439</td>\n",
       "      <td>131.611707</td>\n",
       "      <td>246.00000</td>\n",
       "      <td>0.149268</td>\n",
       "      <td>0.529756</td>\n",
       "      <td>149.114146</td>\n",
       "      <td>0.336585</td>\n",
       "      <td>1.071512</td>\n",
       "      <td>1.385366</td>\n",
       "      <td>0.754146</td>\n",
       "      <td>2.323902</td>\n",
       "      <td>0.513171</td>\n",
       "    </tr>\n",
       "    <tr>\n",
       "      <th>std</th>\n",
       "      <td>9.072290</td>\n",
       "      <td>0.460373</td>\n",
       "      <td>1.029641</td>\n",
       "      <td>17.516718</td>\n",
       "      <td>51.59251</td>\n",
       "      <td>0.356527</td>\n",
       "      <td>0.527878</td>\n",
       "      <td>23.005724</td>\n",
       "      <td>0.472772</td>\n",
       "      <td>1.175053</td>\n",
       "      <td>0.617755</td>\n",
       "      <td>1.030798</td>\n",
       "      <td>0.620660</td>\n",
       "      <td>0.500070</td>\n",
       "    </tr>\n",
       "    <tr>\n",
       "      <th>min</th>\n",
       "      <td>29.000000</td>\n",
       "      <td>0.000000</td>\n",
       "      <td>0.000000</td>\n",
       "      <td>94.000000</td>\n",
       "      <td>126.00000</td>\n",
       "      <td>0.000000</td>\n",
       "      <td>0.000000</td>\n",
       "      <td>71.000000</td>\n",
       "      <td>0.000000</td>\n",
       "      <td>0.000000</td>\n",
       "      <td>0.000000</td>\n",
       "      <td>0.000000</td>\n",
       "      <td>0.000000</td>\n",
       "      <td>0.000000</td>\n",
       "    </tr>\n",
       "    <tr>\n",
       "      <th>25%</th>\n",
       "      <td>48.000000</td>\n",
       "      <td>0.000000</td>\n",
       "      <td>0.000000</td>\n",
       "      <td>120.000000</td>\n",
       "      <td>211.00000</td>\n",
       "      <td>0.000000</td>\n",
       "      <td>0.000000</td>\n",
       "      <td>132.000000</td>\n",
       "      <td>0.000000</td>\n",
       "      <td>0.000000</td>\n",
       "      <td>1.000000</td>\n",
       "      <td>0.000000</td>\n",
       "      <td>2.000000</td>\n",
       "      <td>0.000000</td>\n",
       "    </tr>\n",
       "    <tr>\n",
       "      <th>50%</th>\n",
       "      <td>56.000000</td>\n",
       "      <td>1.000000</td>\n",
       "      <td>1.000000</td>\n",
       "      <td>130.000000</td>\n",
       "      <td>240.00000</td>\n",
       "      <td>0.000000</td>\n",
       "      <td>1.000000</td>\n",
       "      <td>152.000000</td>\n",
       "      <td>0.000000</td>\n",
       "      <td>0.800000</td>\n",
       "      <td>1.000000</td>\n",
       "      <td>0.000000</td>\n",
       "      <td>2.000000</td>\n",
       "      <td>1.000000</td>\n",
       "    </tr>\n",
       "    <tr>\n",
       "      <th>75%</th>\n",
       "      <td>61.000000</td>\n",
       "      <td>1.000000</td>\n",
       "      <td>2.000000</td>\n",
       "      <td>140.000000</td>\n",
       "      <td>275.00000</td>\n",
       "      <td>0.000000</td>\n",
       "      <td>1.000000</td>\n",
       "      <td>166.000000</td>\n",
       "      <td>1.000000</td>\n",
       "      <td>1.800000</td>\n",
       "      <td>2.000000</td>\n",
       "      <td>1.000000</td>\n",
       "      <td>3.000000</td>\n",
       "      <td>1.000000</td>\n",
       "    </tr>\n",
       "    <tr>\n",
       "      <th>max</th>\n",
       "      <td>77.000000</td>\n",
       "      <td>1.000000</td>\n",
       "      <td>3.000000</td>\n",
       "      <td>200.000000</td>\n",
       "      <td>564.00000</td>\n",
       "      <td>1.000000</td>\n",
       "      <td>2.000000</td>\n",
       "      <td>202.000000</td>\n",
       "      <td>1.000000</td>\n",
       "      <td>6.200000</td>\n",
       "      <td>2.000000</td>\n",
       "      <td>4.000000</td>\n",
       "      <td>3.000000</td>\n",
       "      <td>1.000000</td>\n",
       "    </tr>\n",
       "  </tbody>\n",
       "</table>\n",
       "</div>"
      ],
      "text/plain": [
       "               age          sex           cp     trestbps        chol  \\\n",
       "count  1025.000000  1025.000000  1025.000000  1025.000000  1025.00000   \n",
       "mean     54.434146     0.695610     0.942439   131.611707   246.00000   \n",
       "std       9.072290     0.460373     1.029641    17.516718    51.59251   \n",
       "min      29.000000     0.000000     0.000000    94.000000   126.00000   \n",
       "25%      48.000000     0.000000     0.000000   120.000000   211.00000   \n",
       "50%      56.000000     1.000000     1.000000   130.000000   240.00000   \n",
       "75%      61.000000     1.000000     2.000000   140.000000   275.00000   \n",
       "max      77.000000     1.000000     3.000000   200.000000   564.00000   \n",
       "\n",
       "               fbs      restecg      thalach        exang      oldpeak  \\\n",
       "count  1025.000000  1025.000000  1025.000000  1025.000000  1025.000000   \n",
       "mean      0.149268     0.529756   149.114146     0.336585     1.071512   \n",
       "std       0.356527     0.527878    23.005724     0.472772     1.175053   \n",
       "min       0.000000     0.000000    71.000000     0.000000     0.000000   \n",
       "25%       0.000000     0.000000   132.000000     0.000000     0.000000   \n",
       "50%       0.000000     1.000000   152.000000     0.000000     0.800000   \n",
       "75%       0.000000     1.000000   166.000000     1.000000     1.800000   \n",
       "max       1.000000     2.000000   202.000000     1.000000     6.200000   \n",
       "\n",
       "             slope           ca         thal       target  \n",
       "count  1025.000000  1025.000000  1025.000000  1025.000000  \n",
       "mean      1.385366     0.754146     2.323902     0.513171  \n",
       "std       0.617755     1.030798     0.620660     0.500070  \n",
       "min       0.000000     0.000000     0.000000     0.000000  \n",
       "25%       1.000000     0.000000     2.000000     0.000000  \n",
       "50%       1.000000     0.000000     2.000000     1.000000  \n",
       "75%       2.000000     1.000000     3.000000     1.000000  \n",
       "max       2.000000     4.000000     3.000000     1.000000  "
      ]
     },
     "execution_count": 7,
     "metadata": {},
     "output_type": "execute_result"
    }
   ],
   "source": [
    "df.describe()"
   ]
  },
  {
   "cell_type": "markdown",
   "id": "544120d1",
   "metadata": {},
   "source": [
    "### Grafikte daha anlamlı olması açısından target değişkenlerini 'Yes' ve 'No' olarak güncelliyoruz."
   ]
  },
  {
   "cell_type": "code",
   "execution_count": 8,
   "id": "aa5b13e4",
   "metadata": {},
   "outputs": [],
   "source": [
    "df.target = df.target.replace(1,\"yes\")\n",
    "df.target = df.target.replace(0,\"no\")"
   ]
  },
  {
   "cell_type": "code",
   "execution_count": 9,
   "id": "730e7917",
   "metadata": {},
   "outputs": [
    {
     "data": {
      "text/plain": [
       "age           int64\n",
       "sex           int64\n",
       "cp            int64\n",
       "trestbps      int64\n",
       "chol          int64\n",
       "fbs           int64\n",
       "restecg       int64\n",
       "thalach       int64\n",
       "exang         int64\n",
       "oldpeak     float64\n",
       "slope         int64\n",
       "ca            int64\n",
       "thal          int64\n",
       "target       object\n",
       "dtype: object"
      ]
     },
     "execution_count": 9,
     "metadata": {},
     "output_type": "execute_result"
    }
   ],
   "source": [
    "df.dtypes"
   ]
  },
  {
   "cell_type": "markdown",
   "id": "252db3be",
   "metadata": {},
   "source": [
    "#### Burada sütun grafiği ile çıktı değişkenlerinin oranını karşılaştırıyoruz. Veri analizi yapmaya uygun şekilde dağılmış veriler olduğunu görüyoruz."
   ]
  },
  {
   "cell_type": "code",
   "execution_count": 10,
   "id": "b0aa977f",
   "metadata": {},
   "outputs": [
    {
     "data": {
      "text/plain": [
       "yes    526\n",
       "no     499\n",
       "Name: target, dtype: int64"
      ]
     },
     "execution_count": 10,
     "metadata": {},
     "output_type": "execute_result"
    },
    {
     "data": {
      "image/png": "[encoded data removed]",
      "text/plain": [
       "<Figure size 432x288 with 1 Axes>"
      ]
     },
     "metadata": {
      "needs_background": "light"
     },
     "output_type": "display_data"
    }
   ],
   "source": [
    "sns.countplot(x = \"target\", data = df)\n",
    "df.loc[:,\"target\"].value_counts()"
   ]
  },
  {
   "cell_type": "code",
   "execution_count": 11,
   "id": "5164d352",
   "metadata": {},
   "outputs": [],
   "source": [
    "# Öznitelikleri Kategorik ve Sürekli olmak üzere ikiye ayırıyoruz. Böylece ifade edebileceğiz.\n",
    "categorial = ['sex','exang','ca','cp','fbs','restecg','slope','thal']\n",
    "continuous = [\"age\",\"trestbps\",\"chol\",\"thalach\",\"oldpeak\"]\n",
    "target = [\"target\"]"
   ]
  },
  {
   "cell_type": "code",
   "execution_count": 12,
   "id": "123fe74f",
   "metadata": {
    "scrolled": true
   },
   "outputs": [
    {
     "data": {
      "text/html": [
       "<div>\n",
       "<style scoped>\n",
       "    .dataframe tbody tr th:only-of-type {\n",
       "        vertical-align: middle;\n",
       "    }\n",
       "\n",
       "    .dataframe tbody tr th {\n",
       "        vertical-align: top;\n",
       "    }\n",
       "\n",
       "    .dataframe thead th {\n",
       "        text-align: right;\n",
       "    }\n",
       "</style>\n",
       "<table border=\"1\" class=\"dataframe\">\n",
       "  <thead>\n",
       "    <tr style=\"text-align: right;\">\n",
       "      <th></th>\n",
       "      <th>age</th>\n",
       "      <th>trestbps</th>\n",
       "      <th>chol</th>\n",
       "      <th>thalach</th>\n",
       "      <th>oldpeak</th>\n",
       "    </tr>\n",
       "  </thead>\n",
       "  <tbody>\n",
       "    <tr>\n",
       "      <th>count</th>\n",
       "      <td>1025.000000</td>\n",
       "      <td>1025.000000</td>\n",
       "      <td>1025.00000</td>\n",
       "      <td>1025.000000</td>\n",
       "      <td>1025.000000</td>\n",
       "    </tr>\n",
       "    <tr>\n",
       "      <th>mean</th>\n",
       "      <td>54.434146</td>\n",
       "      <td>131.611707</td>\n",
       "      <td>246.00000</td>\n",
       "      <td>149.114146</td>\n",
       "      <td>1.071512</td>\n",
       "    </tr>\n",
       "    <tr>\n",
       "      <th>std</th>\n",
       "      <td>9.072290</td>\n",
       "      <td>17.516718</td>\n",
       "      <td>51.59251</td>\n",
       "      <td>23.005724</td>\n",
       "      <td>1.175053</td>\n",
       "    </tr>\n",
       "    <tr>\n",
       "      <th>min</th>\n",
       "      <td>29.000000</td>\n",
       "      <td>94.000000</td>\n",
       "      <td>126.00000</td>\n",
       "      <td>71.000000</td>\n",
       "      <td>0.000000</td>\n",
       "    </tr>\n",
       "    <tr>\n",
       "      <th>25%</th>\n",
       "      <td>48.000000</td>\n",
       "      <td>120.000000</td>\n",
       "      <td>211.00000</td>\n",
       "      <td>132.000000</td>\n",
       "      <td>0.000000</td>\n",
       "    </tr>\n",
       "    <tr>\n",
       "      <th>50%</th>\n",
       "      <td>56.000000</td>\n",
       "      <td>130.000000</td>\n",
       "      <td>240.00000</td>\n",
       "      <td>152.000000</td>\n",
       "      <td>0.800000</td>\n",
       "    </tr>\n",
       "    <tr>\n",
       "      <th>75%</th>\n",
       "      <td>61.000000</td>\n",
       "      <td>140.000000</td>\n",
       "      <td>275.00000</td>\n",
       "      <td>166.000000</td>\n",
       "      <td>1.800000</td>\n",
       "    </tr>\n",
       "    <tr>\n",
       "      <th>max</th>\n",
       "      <td>77.000000</td>\n",
       "      <td>200.000000</td>\n",
       "      <td>564.00000</td>\n",
       "      <td>202.000000</td>\n",
       "      <td>6.200000</td>\n",
       "    </tr>\n",
       "  </tbody>\n",
       "</table>\n",
       "</div>"
      ],
      "text/plain": [
       "               age     trestbps        chol      thalach      oldpeak\n",
       "count  1025.000000  1025.000000  1025.00000  1025.000000  1025.000000\n",
       "mean     54.434146   131.611707   246.00000   149.114146     1.071512\n",
       "std       9.072290    17.516718    51.59251    23.005724     1.175053\n",
       "min      29.000000    94.000000   126.00000    71.000000     0.000000\n",
       "25%      48.000000   120.000000   211.00000   132.000000     0.000000\n",
       "50%      56.000000   130.000000   240.00000   152.000000     0.800000\n",
       "75%      61.000000   140.000000   275.00000   166.000000     1.800000\n",
       "max      77.000000   200.000000   564.00000   202.000000     6.200000"
      ]
     },
     "execution_count": 12,
     "metadata": {},
     "output_type": "execute_result"
    }
   ],
   "source": [
    "# Sürekli değişkenlerin ortalama, standart sapma, min ,max gibi değerleri incelenir.\n",
    "df[continuous].describe()"
   ]
  },
  {
   "cell_type": "markdown",
   "id": "e4649051",
   "metadata": {},
   "source": [
    "## 2.2. VERİ GÖRSELLEŞTİRMESİ\n",
    "### 2.2.1. Kategorik Verilerin Görselleştirilmesi\n",
    " Her bir kategorik veriye göre çıktı değişkenlerinin sütun grafiği çizilerek incelenir. Değişkenlerin sonucu nasıl etkilediği araştırılır."
   ]
  },
  {
   "cell_type": "code",
   "execution_count": 13,
   "id": "d3fd56a3",
   "metadata": {},
   "outputs": [
    {
     "data": {
      "image/png": "[encoded data removed]",
      "text/plain": [
       "<Figure size 1296x1080 with 8 Axes>"
      ]
     },
     "metadata": {},
     "output_type": "display_data"
    }
   ],
   "source": [
    "fig = plt.figure(figsize=(18,15))\n",
    "fig.patch.set_facecolor(\"#ffe6e6\")\n",
    "for i, c in enumerate(categorial):\n",
    "    plt.subplot(4,4,i+1)\n",
    "    sns.countplot(df[c], hue=df[\"target\"])\n",
    "    plt.title(c)\n",
    "    plt.xlabel(\"\")"
   ]
  },
  {
   "cell_type": "markdown",
   "id": "97101eb3",
   "metadata": {},
   "source": [
    "### 2.2.2. Verilerin Dağılımı\n",
    "- Sürekli değişkenlerin olasılık yoğunluklarını görselleştirmek adına kdeplot fonksiyonu kullanılır. \n",
    "- Normal dağılıma uyup uymadığı ve verilerin yoğunluğu incelenir."
   ]
  },
  {
   "cell_type": "code",
   "execution_count": 14,
   "id": "e76c0420",
   "metadata": {
    "scrolled": false
   },
   "outputs": [
    {
     "data": {
      "image/png": "[encoded data removed]",
      "text/plain": [
       "<Figure size 1296x576 with 5 Axes>"
      ]
     },
     "metadata": {
      "needs_background": "light"
     },
     "output_type": "display_data"
    }
   ],
   "source": [
    "plt.figure(figsize=(18,8))\n",
    "for i, c in enumerate(continuous):\n",
    "    plt.subplot(2,3,i+1)\n",
    "    sns.kdeplot(data=df, x=df[c],hue=\"target\", fill=True,palette=[\"blue\",\"red\"], alpha=.5, linewidth=0)"
   ]
  },
  {
   "cell_type": "markdown",
   "id": "975f908e",
   "metadata": {},
   "source": [
    "### 2.2.3. Aykırı Verilerin Tespiti\n",
    "Aykırı değerlerin olduğu özniteliklerin belirlenmesi için boxplot fonksiyonu kullanılır. trestbps, chol,thalach, değişkenlerinde aykırı verilere rastlıyoruz."
   ]
  },
  {
   "cell_type": "code",
   "execution_count": 16,
   "id": "b990121b",
   "metadata": {
    "scrolled": true
   },
   "outputs": [
    {
     "ename": "SyntaxError",
     "evalue": "invalid syntax (Temp/ipykernel_9364/1616131452.py, line 7)",
     "output_type": "error",
     "traceback": [
      "\u001b[1;36m  File \u001b[1;32m\"C:\\Users\\ASL~1\\AppData\\Local\\Temp/ipykernel_9364/1616131452.py\"\u001b[1;36m, line \u001b[1;32m7\u001b[0m\n\u001b[1;33m    plt.xlabel(\"\")\u001b[0m\n\u001b[1;37m    ^\u001b[0m\n\u001b[1;31mSyntaxError\u001b[0m\u001b[1;31m:\u001b[0m invalid syntax\n"
     ]
    }
   ],
   "source": [
    "fig = plt.figure(figsize=(18,15))\n",
    "fig.patch.set_facecolor(\"#ffe6e6\")\n",
    "for i, c in enumerate(continuous):\n",
    "    plt.subplot(5,3,i+1)\n",
    "    sns.boxplot(x = df[c])\n",
    "    plt.title(c\n",
    "    plt.xlabel(\"\")"
   ]
  },
  {
   "cell_type": "markdown",
   "id": "dffacc04",
   "metadata": {},
   "source": [
    "## 2.3. AYKIRI VERİ ANALİZİ\n",
    "Yukarıda boxplot ile tespit edilen aykırı verilerin değişkenleri ele alınarak 1.5 IQR üzerindeki veriler çıkartılır."
   ]
  },
  {
   "cell_type": "code",
   "execution_count": null,
   "id": "499aaa47",
   "metadata": {},
   "outputs": [],
   "source": [
    "Q1_age = df.age.quantile(0.25)\n",
    "Q3_age = df.age.quantile(0.75)\n",
    "IQR_age = Q3_age - Q1_age\n",
    "IQR_age"
   ]
  },
  {
   "cell_type": "code",
   "execution_count": null,
   "id": "9e7b023f",
   "metadata": {},
   "outputs": [],
   "source": [
    "age_ust_sinir = Q3_age + 1.5 * IQR_age\n",
    "age_alt_sinir = Q1_age - 1.5 * IQR_age\n",
    "print(\"Age Alt Sınır\" , age_alt_sinir)\n",
    "print(\"Age Üst Sınır\", age_ust_sinir)"
   ]
  },
  {
   "cell_type": "code",
   "execution_count": null,
   "id": "73ea7e04",
   "metadata": {},
   "outputs": [],
   "source": [
    "# Age'de aykırılık yoktur.\n",
    "df.drop(df[(df.age > age_ust_sinir) & df.target].index, inplace=True)\n",
    "df.drop(df[(df.age < age_alt_sinir) & df.target].index, inplace=True)\n",
    "df.shape"
   ]
  },
  {
   "cell_type": "code",
   "execution_count": null,
   "id": "2899aaad",
   "metadata": {},
   "outputs": [],
   "source": [
    "Q1_trestbps = df.trestbps.quantile(0.25)\n",
    "Q3_trestbps = df.trestbps.quantile(0.75)\n",
    "IQR_trestbps = Q3_trestbps - Q1_trestbps\n",
    "IQR_trestbps"
   ]
  },
  {
   "cell_type": "code",
   "execution_count": null,
   "id": "c4636889",
   "metadata": {},
   "outputs": [],
   "source": [
    "trestbps_ust_sinir = Q3_trestbps + 1.5 * IQR_trestbps\n",
    "trestbps_alt_sinir = Q1_trestbps - 1.5 * IQR_trestbps\n",
    "print(\"trestbps Alt Sınır\" , trestbps_alt_sinir)\n",
    "print(\"trestbps Üst Sınır\", trestbps_ust_sinir)"
   ]
  },
  {
   "cell_type": "code",
   "execution_count": null,
   "id": "948fa5f5",
   "metadata": {},
   "outputs": [],
   "source": [
    "# trestbps'de sadece üstsınırın üzerinde aykırılık var.\n",
    "df.drop(df[(df.trestbps > trestbps_ust_sinir) & df.target].index, inplace=True)\n",
    "df.drop(df[(df.trestbps < trestbps_alt_sinir) & df.target].index, inplace=True)\n",
    "df.shape"
   ]
  },
  {
   "cell_type": "code",
   "execution_count": null,
   "id": "7c2d8834",
   "metadata": {},
   "outputs": [],
   "source": [
    "Q1_chol = df.chol.quantile(0.25)\n",
    "Q3_chol = df.chol.quantile(0.75)\n",
    "IQR_chol = Q3_chol - Q1_chol\n",
    "IQR_chol"
   ]
  },
  {
   "cell_type": "code",
   "execution_count": null,
   "id": "889bfacc",
   "metadata": {},
   "outputs": [],
   "source": [
    "chol_ust_sinir = Q3_chol + 1.5 * IQR_chol\n",
    "chol_alt_sinir = Q1_chol - 1.5 * IQR_chol\n",
    "print(\"chol Alt Sınır\" , chol_alt_sinir)\n",
    "print(\"chol Üst Sınır\", chol_ust_sinir)"
   ]
  },
  {
   "cell_type": "code",
   "execution_count": null,
   "id": "46c23c33",
   "metadata": {},
   "outputs": [],
   "source": [
    "# chol'de sadece üstsınırın üzerinde aykırılık var.\n",
    "df.drop(df[(df.chol > chol_ust_sinir) & df.target].index, inplace=True)\n",
    "df.drop(df[(df.chol < chol_alt_sinir) & df.target].index, inplace=True)\n",
    "df.shape"
   ]
  },
  {
   "cell_type": "code",
   "execution_count": null,
   "id": "3683b9d0",
   "metadata": {},
   "outputs": [],
   "source": [
    "Q1_thalach = df.thalach.quantile(0.25)\n",
    "Q3_thalach = df.thalach.quantile(0.75)\n",
    "IQR_thalach = Q3_thalach - Q1_thalach\n",
    "IQR_thalach"
   ]
  },
  {
   "cell_type": "code",
   "execution_count": null,
   "id": "fbccc80a",
   "metadata": {},
   "outputs": [],
   "source": [
    "thalach_ust_sinir = Q3_thalach + 1.5 * IQR_thalach\n",
    "thalach_alt_sinir = Q1_thalach - 1.5 * IQR_thalach\n",
    "print(\"thalach Alt Sınır\" , thalach_alt_sinir)\n",
    "print(\"thalach Üst Sınır\", thalach_ust_sinir)"
   ]
  },
  {
   "cell_type": "code",
   "execution_count": null,
   "id": "e02a33d5",
   "metadata": {},
   "outputs": [],
   "source": [
    "#thalach'da sadece altsınırın altında aykırılık vardır.\n",
    "df.drop(df[(df.thalach > thalach_ust_sinir) & df.target].index, inplace=True)\n",
    "df.drop(df[(df.thalach < thalach_alt_sinir) & df.target].index, inplace=True)\n",
    "df.shape"
   ]
  },
  {
   "cell_type": "code",
   "execution_count": null,
   "id": "0ba1e2e8",
   "metadata": {},
   "outputs": [],
   "source": [
    "Q1_oldpeak = df.oldpeak.quantile(0.25)\n",
    "Q3_oldpeak = df.oldpeak.quantile(0.75)\n",
    "IQR_oldpeak = Q3_oldpeak - Q1_oldpeak\n",
    "IQR_oldpeak"
   ]
  },
  {
   "cell_type": "code",
   "execution_count": null,
   "id": "1e1df55e",
   "metadata": {},
   "outputs": [],
   "source": [
    "oldpeak_ust_sinir = Q3_oldpeak + 1.5 * IQR_oldpeak\n",
    "oldpeak_alt_sinir = Q1_oldpeak - 1.5 * IQR_oldpeak\n",
    "print(\"oldpeak Alt Sınır\" , oldpeak_alt_sinir)\n",
    "print(\"oldpeak Üst Sınır\", oldpeak_ust_sinir)"
   ]
  },
  {
   "cell_type": "code",
   "execution_count": null,
   "id": "88e56bde",
   "metadata": {},
   "outputs": [],
   "source": [
    "# olpeak'de sadece üstsınırın üzerinde aykırılık vardır.\n",
    "df.drop(df[(df.oldpeak > oldpeak_ust_sinir) & df.target].index, inplace=True)\n",
    "df.drop(df[(df.oldpeak < oldpeak_alt_sinir) & df.target].index, inplace=True)\n",
    "df.shape"
   ]
  },
  {
   "cell_type": "code",
   "execution_count": null,
   "id": "950ed185",
   "metadata": {
    "scrolled": true
   },
   "outputs": [],
   "source": [
    "df.head()"
   ]
  },
  {
   "attachments": {
    "k.jpg": {
     "image/jpeg": "[encoded data removed]"
    }
   },
   "cell_type": "markdown",
   "id": "8343bfea",
   "metadata": {},
   "source": [
    "## 2.4.KORELASYON ANALİZİ\n",
    "Korelasyon analizi bağımsız değişkenleri ve bağımlı sonuç değişkeni arasındaki ilişkinin gücün için kullanılır. Korelasyon katsayısı değişkenlerin yönü ve etkileşimlerin nasıl olduğu hakkında bilgi verir. İki değişken arasındaki doğrusal ilişkinin ölçüsünü ifade eder ve pozitif veya negatif olabilir. Korelasyon aralığı değerleri de aşağıdaki tabloda bulunmaktadır.\n",
    "![k.jpg](attachment:k.jpg)\n"
   ]
  },
  {
   "cell_type": "code",
   "execution_count": null,
   "id": "591fe0d0",
   "metadata": {},
   "outputs": [],
   "source": [
    "df.target = df.target.replace(\"yes\",1)\n",
    "df.target = df.target.replace(\"no\",0)"
   ]
  },
  {
   "cell_type": "code",
   "execution_count": null,
   "id": "4a4d8a0b",
   "metadata": {
    "scrolled": true
   },
   "outputs": [],
   "source": [
    "print(\"Hedef Sütun 'target'dır.\")\n",
    "print(\"Age ile hedef sütunumuz arasındaki korelasyon {}'dır.\".format(df.age.corr(df.target)))\n",
    "print(\"Sex ile hedef sütunumuz arasındaki korelasyon {}'dır.\".format(df.sex.corr(df.target)))\n",
    "print(\"Cp ile hedef sütunumuz arasındaki korelasyon {}'dır.\".format(df.cp.corr(df.target)))\n",
    "print(\"trestbps ile hedef sütunumuz arasındaki korelasyon {}'dır.\".format(df.trestbps.corr(df.target)))\n",
    "print(\"chol ile hedef sütunumuz arasındaki korelasyon {}'dır.\".format(df.chol.corr(df.target)))\n",
    "print(\"fbs ile hedef sütunumuz arasındaki korelasyon {}'dır.\".format(df.fbs.corr(df.target)))\n",
    "print(\"restecg ile hedef sütunumuz arasındaki korelasyon {}'dır.\".format(df.restecg.corr(df.target)))\n",
    "print(\"thalach ile hedef sütunumuz arasındaki korelasyon {}'dır.\".format(df.thalach.corr(df.target)))\n",
    "print(\"exang ile hedef sütunumuz arasındaki korelasyon {}'dır.\".format(df.exang.corr(df.target)))\n",
    "print(\"oldpeak ile hedef sütunumuz arasındaki korelasyon {}'dır.\".format(df.oldpeak.corr(df.target)))\n",
    "print(\"slope ile hedef sütunumuz arasındaki korelasyon {}'dır.\".format(df.slope.corr(df.target)))\n",
    "print(\"ca ile hedef sütunumuz arasındaki korelasyon {}'dır.\".format(df.ca.corr(df.target)))\n",
    "print(\"thal ile hedef sütunumuz arasındaki korelasyon {}'dır.\".format(df.thal.corr(df.target)))\n"
   ]
  },
  {
   "cell_type": "markdown",
   "id": "3fd1a986",
   "metadata": {},
   "source": [
    "### 2.4.1. Isı Haritası "
   ]
  },
  {
   "cell_type": "markdown",
   "id": "543209cc",
   "metadata": {},
   "source": [
    "- Isı haritaları, matris tarzında verileri görselleştirmek için kullanılır. \n",
    "- Haritanın üst kısmı da aynı değerleri temsil edeceğinden maskelenir."
   ]
  },
  {
   "cell_type": "code",
   "execution_count": null,
   "id": "e5d68717",
   "metadata": {},
   "outputs": [],
   "source": [
    "# Üst üçgendeki değerleri True olarak ayarlamak için maskeyi tanımlıyoruz.\n",
    "# matrisin üst üçgenini yalıtmak için np.triu() numpy işlevini  kullanalım. \n",
    "# np.ones_like() işlevinin kullanılması, tüm yalıtılmış değerleri 1'e değiştirecektir.\n",
    "corr=df.corr()\n",
    "plt.figure(figsize=(10,10))\n",
    "mask = np.triu(np.ones_like(corr))\n",
    "sns.heatmap(corr,mask=mask,fmt=\".2f\",annot=True)"
   ]
  },
  {
   "cell_type": "markdown",
   "id": "a627fd5d",
   "metadata": {},
   "source": [
    "### 2.4.2. Korelasyon Katsayısı Düşük Olanların Düşürülmesi\n",
    "age,trestbps, chol, fbs,restecg korelasyon katsayıları yukarıdaki tabloda bulunan istediğimiz aralıkta olmadığından atarız. Ancak age değeri sınır değere yakın olduğu için bu sütunu atmamaya karar verdik."
   ]
  },
  {
   "cell_type": "code",
   "execution_count": null,
   "id": "93a2521c",
   "metadata": {},
   "outputs": [],
   "source": [
    "df.drop(\"trestbps\", axis=1, inplace=True)\n",
    "df.drop(\"chol\", axis=1, inplace=True)\n",
    "df.drop(\"restecg\", axis=1, inplace=True)\n",
    "df.drop(\"fbs\", axis=1, inplace=True)"
   ]
  },
  {
   "cell_type": "code",
   "execution_count": null,
   "id": "5337773c",
   "metadata": {},
   "outputs": [],
   "source": [
    "# Korelasyon analizinde istenilen aralıkta olmadığı keşfedilip düşürülen verilerin \n",
    "# ardından veriler tekrar incelenir.\n",
    "df.head()"
   ]
  },
  {
   "cell_type": "markdown",
   "id": "aa3c0683",
   "metadata": {},
   "source": [
    "### 2.4.3 Düşürülen Verilerden Sonra Isı Haritasının Çizilmesi"
   ]
  },
  {
   "cell_type": "code",
   "execution_count": null,
   "id": "397d1f21",
   "metadata": {},
   "outputs": [],
   "source": [
    "corr=df.corr()\n",
    "plt.figure(figsize=(10,10))\n",
    "mask = np.triu(np.ones_like(corr))\n",
    "sns.heatmap(corr,mask=mask,fmt=\".2f\",annot=True)"
   ]
  },
  {
   "cell_type": "markdown",
   "id": "1c65db53",
   "metadata": {},
   "source": [
    "# 3.MAKİNA ÖĞRENMESİ"
   ]
  },
  {
   "cell_type": "markdown",
   "id": "50eebec6",
   "metadata": {},
   "source": [
    "## 3.1. Lojistik Regresyon İle Test Edilmesi\n",
    "Lojistik regresyon, bağımlı değişkenin iki veya daha fazla kategori içerdiği, bağımsız değişkenlerin ise sürekli veya kategorik bir yapıya sahip olduğu durumlarda bağımsız değişkenler ile bağımlı değişken arasındaki ilişkiyi araştırır. Bir sonucu belirleyen bir veya daha fazla bağımsız değişken bulunan bir veri kümesini analiz etmek için kullanılan istatistiksel bir yöntemdir. "
   ]
  },
  {
   "cell_type": "markdown",
   "id": "083f7c04",
   "metadata": {},
   "source": [
    "### 3.1.1. Test ve Eğitim Veri Setlerinin Oluşturulması\n",
    "Veri setimizdeki önişleme adımlarını tamamladık ve verilerimizi testlere sokmak için test ve train diye bölüyoruz"
   ]
  },
  {
   "cell_type": "code",
   "execution_count": null,
   "id": "b7c01ba6",
   "metadata": {},
   "outputs": [],
   "source": [
    "# Veri setimizi parçalayarak test verisi oluşturacağız.\n",
    "# Verimizin 1/3 ünü test verisi olarak oluşturuyoruz \n",
    "# Yani 30 satırımızın 20 si train verisi olarak ayrılacak\n",
    "# 10 satırımız da test verisi olacak.\n",
    "x = df.drop(\"target\",axis=1)\n",
    "y = df[\"target\"]\n",
    "x_train , x_test , y_train , y_test = train_test_split(x,y,test_size=1/3, random_state= 20)"
   ]
  },
  {
   "cell_type": "markdown",
   "id": "c67a443d",
   "metadata": {},
   "source": [
    "### 3.1.2. Standardlaştırma\n",
    "Veri değerlerini standart bir formatta standart hale getirmek için StandardScaler işlevi kullanılır. Özelliklerin Ölçeklendirilmesi , algoritmaları veri kümeleriyle modellemede önemli bir adımdır. \n",
    "sts = StandardScaler()"
   ]
  },
  {
   "cell_type": "code",
   "execution_count": null,
   "id": "5fede26f",
   "metadata": {},
   "outputs": [],
   "source": [
    "sts = StandardScaler()\n",
    "scale = sts.fit(x_train)"
   ]
  },
  {
   "cell_type": "code",
   "execution_count": null,
   "id": "097322ed",
   "metadata": {},
   "outputs": [],
   "source": [
    "x_train = scale.transform(x_train)\n",
    "x_test = scale.transform(x_test)"
   ]
  },
  {
   "cell_type": "markdown",
   "id": "1d70d0d1",
   "metadata": {},
   "source": [
    "### 3.1.3. Doğruluk Ölçümü\n",
    "Test ve eğitim veri setlerinin doğruluğu ölçülür."
   ]
  },
  {
   "cell_type": "code",
   "execution_count": null,
   "id": "0362e768",
   "metadata": {
    "scrolled": true
   },
   "outputs": [],
   "source": [
    "lambda_range = np.arange(0,1,0.01)\n",
    "for lmb in lambda_range:\n",
    "    LR = LogisticRegression(penalty = 'l2', C = lmb, multi_class=\"multinomial\",random_state=20)\n",
    "    LR.fit(x_train, y_train)\n",
    "    print('lambda:', lmb)\n",
    "    print('Özelliklerin katsayıları:', LR.coef_)\n",
    "    print('Training accuracy:', LR.score(x_train, y_train))\n",
    "    print('')"
   ]
  },
  {
   "cell_type": "code",
   "execution_count": null,
   "id": "a624f30e",
   "metadata": {
    "scrolled": true
   },
   "outputs": [],
   "source": [
    "# Yukarıdaki değerleri test edip en iyi sonucu ilk olarak 0.01 noktasında aldığımızı öğrenmiş olduk. \n",
    "# Bu sebeple C değerimizi 0.01 olarak aldık\n",
    "#LogisticRegression nesnesi ile modelimizi oluşturuyoruz.\n",
    "#Train verimiz ile de modelimizi besliyoruz.\n",
    "LR = LogisticRegression(penalty = 'l2', C = 0.01,multi_class=\"multinomial\",random_state=20)\n",
    "LR.fit(x_train, y_train)\n",
    "\n",
    "print('Özelliklerin katsayıları:', LR.coef_)\n",
    "print('Training accuracy:', LR.score(x_train, y_train))\n",
    "print('Test accuracy:', LR.score(x_test, y_test))"
   ]
  },
  {
   "cell_type": "code",
   "execution_count": null,
   "id": "33c8b876",
   "metadata": {},
   "outputs": [],
   "source": [
    "#Test verimizle modelimize tahmin ürettiriyoruz.\n",
    "y_pred = LR.predict(x_test)\n",
    "y_pred"
   ]
  },
  {
   "cell_type": "markdown",
   "id": "234e836f",
   "metadata": {},
   "source": [
    "### 3.1.4. Lojistik Regresyon Modelinin Sonuçları"
   ]
  },
  {
   "cell_type": "code",
   "execution_count": null,
   "id": "9b11f68f",
   "metadata": {
    "scrolled": false
   },
   "outputs": [],
   "source": [
    "# Kurulan bir sınıflandırma modelinin sonuçlarını yorumlayabilmek, gerçek ve tahmin edilen değerler \n",
    "# arasında yer alan ilişkideki hataları çapraz olarak inceleyebilmek için confusion matrix kullanılır.\n",
    "plot_confusion_matrix(LR,x_test,y_test, display_labels=[\"yes\",\"no\"])"
   ]
  },
  {
   "cell_type": "code",
   "execution_count": null,
   "id": "1ceaaddc",
   "metadata": {
    "scrolled": false
   },
   "outputs": [],
   "source": [
    "print(classification_report(y_test,y_pred))"
   ]
  },
  {
   "cell_type": "markdown",
   "id": "f205f202",
   "metadata": {},
   "source": [
    "## 3.2.Yapay Sinir Ağları İle Test Edilmesi\n",
    "\n",
    "Eğitilebilir, adaptif ve kendi kendine organize olup öğrenebilen ve değerlendirme yapabilen yapay sinir ağları ile insan beyninin öğrenme yapısı modellenmeye çalışılmaktadır. Makinelerin eğitilmesi, öğrenmesi ve karar vermesi amaçlanmaktadır. Gözetimli ve gözetimsiz olmak üzere iki farklı öğrenme özelliğine sahiptir."
   ]
  },
  {
   "cell_type": "markdown",
   "id": "2a308b69",
   "metadata": {},
   "source": [
    "### 3.2.1. Çok Katmanlı Yapay Sinir Ağları\n",
    "Çok katmanlı yapay sinir ağları; girdi katmanı, gizli (hidden) katmanlar ve çıktı katmanlarından oluşmaktadır. Çok katmanlı yapay sinir ağları karmaşık problemlerin çözümünde kullanılmaktadır. "
   ]
  },
  {
   "cell_type": "code",
   "execution_count": null,
   "id": "3c3e9150",
   "metadata": {
    "scrolled": false
   },
   "outputs": [],
   "source": [
    "mlp_range = np.arange(10,200,10)\n",
    "for mlp in mlp_range:\n",
    "    MLP = MLPClassifier(hidden_layer_sizes=(mlp,), max_iter=mlp*100, random_state=20)\n",
    "    MLP.fit(x_train,y_train)\n",
    "    print('hidden_layer_size:',mlp , ', max_iter:',mlp*100)\n",
    "    print('Training accuracy:', MLP.score(x_train, y_train))\n",
    "    print(\"\")"
   ]
  },
  {
   "cell_type": "code",
   "execution_count": null,
   "id": "2f5f70ff",
   "metadata": {},
   "outputs": [],
   "source": [
    "# Yukarıdaki değerleri test edip en iyi sonucu ilk olarak 140,14000 noktasında aldığımızı öğrenmiş olduk. \n",
    "# Bu sebeple hidden_layer_size:140 max_iter:14000 olarak alırız.\n",
    "MLP = MLPClassifier(hidden_layer_sizes=(140,),max_iter=14000,random_state=20)\n",
    "MLP.fit(x_train,y_train)\n",
    "print('Training accuracy:', MLP.score(x_train, y_train))\n",
    "print(\"Test accurancy:\", MLP.score(x_test,y_test))"
   ]
  },
  {
   "cell_type": "markdown",
   "id": "152a0677",
   "metadata": {},
   "source": [
    "### 3.2.2. Modeli Test Etme"
   ]
  },
  {
   "cell_type": "code",
   "execution_count": null,
   "id": "e95851a4",
   "metadata": {
    "scrolled": true
   },
   "outputs": [],
   "source": [
    "# Modelimizi eğitim verimiz ile eğittikten sonra test ediyoruz. \n",
    "# Pred içerisinde her bir test örneği için modelimizin tahminleri yer almaktadır.\n",
    "pred = MLP.predict(x_test)\n",
    "pred"
   ]
  },
  {
   "cell_type": "markdown",
   "id": "cea6cc2d",
   "metadata": {},
   "source": [
    "### 3.2.3. Yapay Sinir Ağları Modelinin Sonuçları"
   ]
  },
  {
   "cell_type": "code",
   "execution_count": null,
   "id": "4c2d6964",
   "metadata": {
    "scrolled": false
   },
   "outputs": [],
   "source": [
    "plot_confusion_matrix(MLP,x_test,y_test, display_labels=[\"yes\",\"no\"])"
   ]
  },
  {
   "cell_type": "code",
   "execution_count": null,
   "id": "4b7b762a",
   "metadata": {},
   "outputs": [],
   "source": [
    "print(classification_report(y_test,pred))"
   ]
  },
  {
   "cell_type": "markdown",
   "id": "b5ceed9e",
   "metadata": {},
   "source": [
    "## 4. SONUÇ\n",
    "Veri seti iki farklı algoritma ile teste tabi tutuldu. Lojistik Regresyona göre eğitim veri setinin doğruluğu % 86 ,  test veri setinin doğruluğu % 85 çıktı. Yapay sinir ağlarına göre ise eğitim veri setinin doğruluğu % 100 , test veri setinin doğruluğu % 99 çıktı.  Yapay sinir ağları ile veri seti öğrenmeyi daha iyi gerçekleştirdi diyebiliriz. \n",
    "                        \n"
   ]
  }
 ],
 "metadata": {
  "kernelspec": {
   "display_name": "Python 3 (ipykernel)",
   "language": "python",
   "name": "python3"
  },
  "language_info": {
   "codemirror_mode": {
    "name": "ipython",
    "version": 3
   },
   "file_extension": ".py",
   "mimetype": "text/x-python",
   "name": "python",
   "nbconvert_exporter": "python",
   "pygments_lexer": "ipython3",
   "version": "3.8.12"
  }
 },
 "nbformat": 4,
 "nbformat_minor": 5
}
